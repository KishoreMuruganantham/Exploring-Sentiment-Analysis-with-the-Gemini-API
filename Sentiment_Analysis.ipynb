{
  "nbformat": 4,
  "nbformat_minor": 0,
  "metadata": {
    "colab": {
      "provenance": []
    },
    "kernelspec": {
      "name": "python3",
      "display_name": "Python 3"
    },
    "language_info": {
      "name": "python"
    }
  },
  "cells": [
    {
      "cell_type": "markdown",
      "source": [
        "---\n",
        "# **Gemini API: Analyzing Sentiment**\n",
        "\n",
        "---\n",
        "\n",
        "\n"
      ],
      "metadata": {
        "id": "DhYWa5mePvsK"
      }
    },
    {
      "cell_type": "code",
      "execution_count": 1,
      "metadata": {
        "id": "qGGb8QopPiK2"
      },
      "outputs": [],
      "source": [
        "!pip install -U -q \"google-generativeai>=0.7.2\""
      ]
    },
    {
      "cell_type": "code",
      "source": [
        "import google.generativeai as genai\n",
        "import json\n",
        "from typing_extensions import TypedDict"
      ],
      "metadata": {
        "id": "0QeZEf63PjD5"
      },
      "execution_count": 2,
      "outputs": []
    },
    {
      "cell_type": "code",
      "source": [
        "# Set up your API key.\n",
        "from google.colab import userdata\n",
        "GOOGLE_API_KEY=userdata.get('GOOGLE_API_KEY')\n",
        "\n",
        "genai.configure(api_key=GOOGLE_API_KEY)"
      ],
      "metadata": {
        "id": "dH3_4UQNPpj9"
      },
      "execution_count": 3,
      "outputs": []
    },
    {
      "cell_type": "code",
      "source": [
        "# Begin by specifying the desired format for your JSON response and the categories you wish to use for classifying items. Once that’s established, provide some examples. For instance, if you’re classifying reviews, you might categorize them as positive, neutral, or negative.\n",
        "sentiment_llm = genai.GenerativeModel(model_name='gemini-1.5-flash-latest',\n",
        "                                      generation_config={\"response_mime_type\": \"application/json\"})\n",
        "prompt = \"\"\"\n",
        "Generate each sentiment score probability (positive, negative, or neutral) for the whole text.\n",
        "\n",
        "Use the following schema to return the sentiment scores:\n",
        "\n",
        "class Sentiment(TypedDict):\n",
        "  positive_sentiment_score: float\n",
        "  negative_sentiment_score: float\n",
        "  neutral_sentiment_score: float\n",
        "\n",
        "{review}\"\"\""
      ],
      "metadata": {
        "id": "JAjSOwrSP7eW"
      },
      "execution_count": 5,
      "outputs": []
    },
    {
      "cell_type": "code",
      "source": [
        "negative_review = \"This was one of the worst experiences I’ve ever had; the atmosphere was chaotic, and the staff seemed completely disorganized.\"\n",
        "positive_review = \"I can’t recommend this enough! A perfect blend of value and quality that left me completely satisfied.\"\n",
        "neutral_review = \"The event was moderately enjoyable—neither thrilling nor disappointing, just average.\""
      ],
      "metadata": {
        "id": "kHVtA3zJP_x_"
      },
      "execution_count": 11,
      "outputs": []
    },
    {
      "cell_type": "code",
      "source": [
        "def print_json(response):\n",
        "  print(json.dumps(json.loads(response.text), indent=4))"
      ],
      "metadata": {
        "id": "iPp5ka3TQMsl"
      },
      "execution_count": 12,
      "outputs": []
    },
    {
      "cell_type": "code",
      "source": [
        "response = sentiment_llm.generate_content(prompt.format(review=negative_review))\n",
        "print_json(response)"
      ],
      "metadata": {
        "colab": {
          "base_uri": "https://localhost:8080/",
          "height": 104
        },
        "id": "d9x8G1HSQQbp",
        "outputId": "2cf7425e-ebbb-428f-eafa-8ba654e83919"
      },
      "execution_count": 13,
      "outputs": [
        {
          "output_type": "stream",
          "name": "stdout",
          "text": [
            "{\n",
            "    \"positive_sentiment_score\": 0.0,\n",
            "    \"negative_sentiment_score\": 0.8,\n",
            "    \"neutral_sentiment_score\": 0.2\n",
            "}\n"
          ]
        }
      ]
    },
    {
      "cell_type": "code",
      "source": [
        "response = sentiment_llm.generate_content(prompt.format(review=positive_review))\n",
        "print_json(response)"
      ],
      "metadata": {
        "colab": {
          "base_uri": "https://localhost:8080/",
          "height": 104
        },
        "id": "0rXb6SU9QScJ",
        "outputId": "627c24cf-5b8c-4683-ff01-ebbcf4bf8c04"
      },
      "execution_count": 14,
      "outputs": [
        {
          "output_type": "stream",
          "name": "stdout",
          "text": [
            "{\n",
            "    \"positive_sentiment_score\": 0.95,\n",
            "    \"negative_sentiment_score\": 0.05,\n",
            "    \"neutral_sentiment_score\": 0.0\n",
            "}\n"
          ]
        }
      ]
    },
    {
      "cell_type": "code",
      "source": [
        "response = sentiment_llm.generate_content(prompt.format(review=neutral_review))\n",
        "print_json(response)"
      ],
      "metadata": {
        "colab": {
          "base_uri": "https://localhost:8080/",
          "height": 104
        },
        "id": "SkmEsYy5QUiR",
        "outputId": "f19a2358-bd6e-4f5d-f25a-7c1252df6b3e"
      },
      "execution_count": 15,
      "outputs": [
        {
          "output_type": "stream",
          "name": "stdout",
          "text": [
            "{\n",
            "    \"positive_sentiment_score\": 0.2,\n",
            "    \"negative_sentiment_score\": 0.1,\n",
            "    \"neutral_sentiment_score\": 0.7\n",
            "}\n"
          ]
        }
      ]
    },
    {
      "cell_type": "markdown",
      "source": [
        "\n",
        "\n",
        "---\n",
        "# **Successfully used Gemini to analyze the sentiment of restaurant reviews in JSON format. Feel free to experiment with other types of text, such as video comments or emails.**  \n",
        "\n",
        "# **Explore the additional notebooks in this directory to learn more about utilizing the Gemini API for various JSON-related tasks.**\n",
        "\n",
        "\n",
        "\n",
        "---\n",
        "\n"
      ],
      "metadata": {
        "id": "SWpYh65YQ2no"
      }
    }
  ]
}